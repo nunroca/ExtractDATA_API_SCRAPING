{
 "cells": [
  {
   "cell_type": "code",
   "execution_count": 25,
   "metadata": {},
   "outputs": [],
   "source": [
    "import requests\n",
    "import pandas as pd\n",
    "import time"
   ]
  },
  {
   "cell_type": "code",
   "execution_count": 33,
   "metadata": {},
   "outputs": [],
   "source": [
    "def DAT_VENT():    \n",
    "    vent_list=pd.read_csv(\"./Data/Venta.csv\",sep=\",\")\n",
    "    vent_list=vent_list[[\"IdCliente\",\"Precio\",\"Cantidad\"]]\n",
    "    vent_list[\"venta\"]=vent_list[\"Precio\"]*vent_list[\"Cantidad\"]\n",
    "    vent_list=vent_list[[\"IdCliente\",\"venta\"]]\n",
    "    vent_list=vent_list.groupby(\"IdCliente\")[\"venta\"].sum().reset_index()\n",
    "    \n",
    "    q1=vent_list[\"venta\"].quantile(0.25)\n",
    "    q2=vent_list[\"venta\"].quantile(0.50)\n",
    "    q3=vent_list[\"venta\"].quantile(0.75)\n",
    "    rang1=(vent_list[\"venta\"].min(),q1)\n",
    "    rang2=(q1,q2)\n",
    "    rang3=(q2,q3)\n",
    "    rang4=(q3,vent_list[\"venta\"].max())\n",
    "    def asignar(venta):\n",
    "        if venta >= rang1[0] and venta < rang1[1]:return \"Rango 1\"\n",
    "        elif venta >= rang2[0] and venta < rang2[1]:return \"Rango 2\"\n",
    "        elif venta >= rang3[0] and venta < rang3[1]:return \"Rango 3\"\n",
    "        elif venta >= rang4[0] and venta <= rang4[1]:return \"Rango 4\"\n",
    "        else:return \"Desconocido\"\n",
    "    vent_list[\"rang_vent\"]=vent_list[\"venta\"].apply(asignar)\n",
    "    vent_list=vent_list.rename(columns={\"IdCliente\":\"ID\"})\n",
    "    return(vent_list)"
   ]
  },
  {
   "cell_type": "code",
   "execution_count": 36,
   "metadata": {},
   "outputs": [],
   "source": [
    "def DAT_CLIENT():\n",
    "    client_list1=pd.read_csv(\"./Data/Clientes.csv\",sep=\";\")\n",
    "    client_list1=client_list1[[\"ID\",\"Nombre_y_Apellido\",\"Domicilio\",\"Localidad\",\"Provincia\",\"X\",\"Y\"]]\n",
    "    client_list1.dropna(inplace=True)\n",
    "    vent_list=DAT_VENT()\n",
    "    client_list2=pd.merge(client_list1,vent_list,on=\"ID\")\n",
    "    client_list2[\"Provincia\"]=client_list2[\"Provincia\"].replace(\"Ciudad de Buenos Aires\",\"Buenos Aires\")\n",
    "    client_list2[\"X\"]=client_list2[\"X\"].str.replace(\",\",\".\")\n",
    "    client_list2[\"Y\"]=client_list2[\"Y\"].str.replace(\",\",\".\")\n",
    "    client_list2=client_list2[client_list2[\"rang_vent\"]==\"Rango 4\"]\n",
    "    #client_list2=client_list2.sample(n=10,random_state=40)\n",
    "    client_list2.reset_index(drop=True, inplace=True)\n",
    "    client_list2[\"Temperatura\"]=0\n",
    "    return(client_list2)"
   ]
  },
  {
   "cell_type": "code",
   "execution_count": 45,
   "metadata": {},
   "outputs": [],
   "source": [
    "def temp_weather(x,y):   \n",
    "    key_api ='Enter your API key'\n",
    "    url = f\"http://api.openweathermap.org/data/2.5/weather?lat={y}&lon={x}&appid={key_api}&units=metric\"\n",
    "    respuesta = requests.get(url)\n",
    "    datos_clima = respuesta.json()\n",
    "    temp = datos_clima['main']['temp']\n",
    "    return temp   "
   ]
  },
  {
   "cell_type": "code",
   "execution_count": 52,
   "metadata": {},
   "outputs": [],
   "source": [
    "def temp_client():\n",
    "    client_list2=DAT_CLIENT()\n",
    "    for i in range(0,len(client_list2)):\n",
    "        x=client_list2.loc[i,\"X\"]\n",
    "        y=client_list2.loc[i,\"Y\"]\n",
    "        client_list2.loc[i,\"Temperatura\"]=temp_weather(x,y)\n",
    "        time.sleep(1)\n",
    "    client_list2=client_list2[[\"ID\",\"Nombre_y_Apellido\",\"Domicilio\",\"Localidad\",\"Provincia\",\"Temperatura\"]]\n",
    "    client_list2=client_list2[client_list2[\"Temperatura\"]>=12]\n",
    "    client_list2=client_list2.sort_values(by=\"Temperatura\",ascending=False)\n",
    "    return(client_list2)"
   ]
  },
  {
   "cell_type": "code",
   "execution_count": 53,
   "metadata": {},
   "outputs": [],
   "source": [
    "def write():\n",
    "    client_list2=temp_client()\n",
    "    client_list2.to_csv(\"./Data/Client_weather\",index=False)\n",
    "    text=print(\"generated file\")\n",
    "    return"
   ]
  },
  {
   "cell_type": "code",
   "execution_count": null,
   "metadata": {},
   "outputs": [],
   "source": [
    "if __name__ == '__main__':\n",
    "    write()"
   ]
  }
 ],
 "metadata": {
  "kernelspec": {
   "display_name": "Python 3",
   "language": "python",
   "name": "python3"
  },
  "language_info": {
   "codemirror_mode": {
    "name": "ipython",
    "version": 3
   },
   "file_extension": ".py",
   "mimetype": "text/x-python",
   "name": "python",
   "nbconvert_exporter": "python",
   "pygments_lexer": "ipython3",
   "version": "3.10.11"
  },
  "orig_nbformat": 4
 },
 "nbformat": 4,
 "nbformat_minor": 2
}
