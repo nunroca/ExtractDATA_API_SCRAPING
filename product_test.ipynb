{
 "cells": [
  {
   "cell_type": "code",
   "execution_count": 15,
   "metadata": {},
   "outputs": [],
   "source": [
    "import requests\n",
    "from bs4 import BeautifulSoup\n",
    "import pandas as pd"
   ]
  },
  {
   "cell_type": "code",
   "execution_count": 13,
   "metadata": {},
   "outputs": [],
   "source": [
    "prod1=\"aire acondicionado split\"\n",
    "prod2=\"refrigerador\"\n",
    "prod3=\"ventilador mesa\""
   ]
  },
  {
   "cell_type": "code",
   "execution_count": 65,
   "metadata": {},
   "outputs": [],
   "source": [
    "\n",
    "def Extrac_MercadoLibre(prod):\n",
    "    r=requests.get(\"https://listado.mercadolibre.com.ar/{}#D[A:{}]\".format(prod.replace(\" \",\"-\"),prod))\n",
    "    cont=r.content\n",
    "    soup=BeautifulSoup(cont,\"html.parser\")\n",
    "    div=soup.find_all(\"div\",{\"class\":\"andes-card\"})\n",
    "    array=[]\n",
    "    for item in div:\n",
    "        data={}\n",
    "        data[\"ID_PRODUCTO\"]=43044\n",
    "        data[\"Concepto\"]=item.find(\"h2\",{\"class\":\"ui-search-item__title shops__item-title\"}).text\n",
    "        data[\"Tipo\"]=\"REFRIGERACIÓN\"\n",
    "        data[\"Precio\"]=item.find(\"span\",{\"class\":\"price-tag-fraction\"}).text\n",
    "        array.append(data)\n",
    "    dat=pd.DataFrame(array).head(2)\n",
    "    return(dat)"
   ]
  },
  {
   "cell_type": "code",
   "execution_count": 59,
   "metadata": {},
   "outputs": [],
   "source": [
    "def Extrac_Tiendamia(prod):\n",
    "    r=requests.get(\"https://tiendamia.com/ar/search?amzs={}\".format(prod))\n",
    "    \n",
    "    cont=r.content\n",
    "    soup=BeautifulSoup(cont,\"html.parser\")\n",
    "    div=soup.find_all(\"div\",{\"class\":\"item button-border\"})\n",
    "    array=[]\n",
    "    for item in div:\n",
    "        data={}\n",
    "        data[\"ID_PRODUCTO\"]=43044\n",
    "        data[\"Concepto\"]=item.find(\"div\",{\"class\":\"item-name\"}).text.replace(\"\\n\",\"\")\n",
    "        data[\"Tipo\"]=\"REFRIGERACIÓN\"\n",
    "        try:data[\"Precio\"]=item.find(\"span\",{\"class\":\"currency_price\"}).text.replace(\"AR$ \",\"\")\n",
    "        except: data[\"Precio\"]=item.find(\"span\",{\"class\":\"currency_price\"})\n",
    "        array.append(data)      \n",
    "    dat=pd.DataFrame(array).head(2)\n",
    "    return(dat)"
   ]
  },
  {
   "cell_type": "code",
   "execution_count": 60,
   "metadata": {},
   "outputs": [],
   "source": [
    "def data_extract():\n",
    "    store=int(input(\"Store Nº1: Mercado Libre \\nStore Nº2: TiendaMia \\n1 or 2 option: \"))\n",
    "    n_product=int(input(\"Nº Products: \"))\n",
    "    tab1=pd.DataFrame(columns=[\"ID_PRODUCTO\",\"Concepto\",\"Tipo\",\"Precio\"])\n",
    "    for i in range(1,n_product+1):\n",
    "        text=input(\"Product Nº\"+str(i)+\": \") \n",
    "        if   (store==1):tab2=Extrac_MercadoLibre(text) \n",
    "        elif (store==2):tab2=Extrac_Tiendamia(text)\n",
    "        tab1=pd.concat([tab1,tab2])   \n",
    "    return (tab1)"
   ]
  },
  {
   "cell_type": "code",
   "execution_count": 61,
   "metadata": {},
   "outputs": [],
   "source": [
    "def data_insert():\n",
    "    df=pd.read_csv(\"./Data/PRODUCTOS.csv\",encoding=\"ANSI\",sep=\";\")\n",
    "    df=df.rename(columns={\" Precio \":\"Precio\"})\n",
    "    lng_id=df[\"ID_PRODUCTO\"].max()\n",
    "    tab1=data_extract()\n",
    "    tab1[\"ID_PRODUCTO\"]=range(lng_id+1,len(tab1[\"ID_PRODUCTO\"])+43044)\n",
    "    df=pd.concat([df,tab1])\n",
    "    df.to_csv(\"./Data/Client_Test\",index=False)\n",
    "    text=print(\"generated file\")\n",
    "    return"
   ]
  },
  {
   "cell_type": "code",
   "execution_count": 66,
   "metadata": {},
   "outputs": [
    {
     "name": "stdout",
     "output_type": "stream",
     "text": [
      "generated file\n"
     ]
    }
   ],
   "source": [
    "if __name__ == '__main__':\n",
    "    data_insert()"
   ]
  }
 ],
 "metadata": {
  "kernelspec": {
   "display_name": "Python 3",
   "language": "python",
   "name": "python3"
  },
  "language_info": {
   "codemirror_mode": {
    "name": "ipython",
    "version": 3
   },
   "file_extension": ".py",
   "mimetype": "text/x-python",
   "name": "python",
   "nbconvert_exporter": "python",
   "pygments_lexer": "ipython3",
   "version": "3.10.11"
  },
  "orig_nbformat": 4
 },
 "nbformat": 4,
 "nbformat_minor": 2
}
